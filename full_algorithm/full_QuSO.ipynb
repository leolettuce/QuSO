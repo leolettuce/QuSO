{
 "cells": [
  {
   "cell_type": "markdown",
   "id": "a5228977",
   "metadata": {},
   "source": [
    "# QuSO Algorithm\n",
    "\n",
    "This notebook contains the full implementation of the QuSO algorithm"
   ]
  },
  {
   "cell_type": "code",
   "execution_count": 11,
   "id": "7b48da84",
   "metadata": {},
   "outputs": [],
   "source": [
    "import numpy as np\n",
    "import os, sys\n",
    "from scipy.optimize import curve_fit\n",
    "\n",
    "parent_dir = os.path.abspath(os.path.join(os.getcwd(), '..'))\n",
    "sys.path.insert(0, parent_dir)\n",
    "from QuSO_utils import *"
   ]
  },
  {
   "cell_type": "code",
   "execution_count": 2,
   "id": "96ec6e77",
   "metadata": {},
   "outputs": [],
   "source": [
    "T_env = 293       # Ambient temperature (K)\n",
    "R_env = 0.001      # Convection resistance to ambient (K/W)\n",
    "\n",
    "# Heat Flows (in Watts)\n",
    "# Positive values indicate heat generation; negative values indicate cooling.\n",
    "Q_1 = 2000    \n",
    "Q_2 = 4000    \n",
    "Q_3 = -200    \n",
    "Q_4 = -2000   \n",
    "\n",
    "# Inter-node Thermal Resistances (in K/W)\n",
    "# These values lump together conduction and convection effects.\n",
    "R_12 = 0.005\n",
    "R_13 = 0.006\n",
    "R_14 = 0.006\n",
    "R_23 = 0.007\n",
    "R_24 = 0.007\n",
    "R_34 = 0.008\n",
    "\n",
    "R_dict = {\n",
    "    (0, 1): R_12,\n",
    "    (0, 2): R_13,\n",
    "    (0, 3): R_14,\n",
    "    (1, 2): R_23,\n",
    "    (1, 3): R_24,\n",
    "    (2, 3): R_34\n",
    "}\n",
    "\n",
    "connections = [(0, 1), (0, 2), (0, 3), (1, 2), (1, 3), (2, 3)]\n",
    "\n",
    "conductance_coeffs = [1/R_12, 1/R_13, 1/R_14, 1/R_23, 1/R_24, 1/R_34, 1/(2*R_env), 0]\n",
    "C_l = np.sum(conductance_coeffs)**(-1/2)\n",
    "conductance_coeffs_amps = np.sqrt(conductance_coeffs)*C_l\n",
    "\n",
    "B = np.array([Q_1, Q_2, Q_3, Q_4])\n",
    "C_B = np.sum([el**2 for el in B])**(-1/2)\n",
    "B_amps = C_B*B"
   ]
  },
  {
   "cell_type": "code",
   "execution_count": 5,
   "id": "c0c54632",
   "metadata": {},
   "outputs": [
    {
     "name": "stdout",
     "output_type": "stream",
     "text": [
      "b=51, j0=22\n",
      "[PolyOneOverX] minimum [-4.58579384] is at [-0.15726745]: normalizing\n",
      "[PolyOneOverX] bounding to 0.9\n"
     ]
    }
   ],
   "source": [
    "# define polynomial for QSVT\n",
    "kappa = 3\n",
    "pcoefs, C_p = pyqsp.poly.PolyOneOverX().generate(kappa, return_coef=True, ensure_bounded=True, return_scale=True, epsilon=0.01)\n",
    "phi_pyqsp = QuantumSignalProcessingPhases(pcoefs, signal_operator=\"Wx\")"
   ]
  },
  {
   "cell_type": "code",
   "execution_count": 21,
   "id": "985152d1",
   "metadata": {},
   "outputs": [],
   "source": [
    "# define quantum registers\n",
    "num_phase_wires = 2\n",
    "\n",
    "config_wires = [f\"config({i})\" for i in range(len(connections))]\n",
    "phase_wires = [f\"p({i})\" for i in range(num_phase_wires)]\n",
    "q_aux = [\"q\"]\n",
    "l_aux = [f\"l({i})\" for i in range(int(np.log2(len(conductance_coeffs_amps))))]\n",
    "flag_aux = [\"flag\"]\n",
    "l_prime_aux = [\"l'\"]\n",
    "data_wires = [f\"d({i})\" for i in range(2)]\n",
    "\n",
    "wires = config_wires + phase_wires + q_aux + l_aux + flag_aux + l_prime_aux + data_wires\n",
    "dev = qml.device(\"lightning.qubit\", wires=wires)"
   ]
  },
  {
   "cell_type": "code",
   "execution_count": 22,
   "id": "58897285",
   "metadata": {},
   "outputs": [],
   "source": [
    "# functions for cost readout\n",
    "\n",
    "def qpe_probability_function(y, theta, M):\n",
    "    y = np.array(y, dtype=np.float64)\n",
    "    numerator = 1 - np.cos(2 * np.pi * (y - theta * M))\n",
    "    denominator = 1 - np.cos((2 * np.pi / M) * (y - theta * M))\n",
    "    # When denominator is close to zero, use the limiting value (which gives a ratio of M^2).\n",
    "    ratio = np.where(np.abs(denominator) < 1e-8, M**2, numerator / denominator)\n",
    "    P = ratio / (M**2)\n",
    "    return P\n",
    "\n",
    "def qae_probability_function(y, theta, M):\n",
    "    term1 = qpe_probability_function(y, theta, M)\n",
    "    term2 = qpe_probability_function(y, -theta, M)\n",
    "    return 0.5 * (term1 + term2)\n",
    "\n",
    "def estimate_theta_qae(probabilities):\n",
    "    probabilities = np.array(probabilities, dtype=np.float64)\n",
    "    M = len(probabilities)  # Number of states (M = 2^n).\n",
    "    y_vals = np.arange(M)\n",
    "    \n",
    "    max_index = np.argmax(probabilities)\n",
    "    initial_guess = (max_index / M)\n",
    "    \n",
    "    # Define narrow bounds around the initial guess.\n",
    "    lower_bound = max(0, initial_guess - 0.5 / M)\n",
    "    upper_bound = min(1, initial_guess + 0.5 / M)\n",
    "    bounds = ([lower_bound], [upper_bound])\n",
    "    \n",
    "    # Define the model function with theta as the only free parameter.\n",
    "    def model(y, theta):\n",
    "        return qae_probability_function(y, theta, M)\n",
    "    \n",
    "    # Attempt two fits (starting at the lower and upper bounds) to help avoid local minima.\n",
    "    try:\n",
    "        popt1, pcov1 = curve_fit(model, y_vals, probabilities, p0=[lower_bound], bounds=bounds)\n",
    "    except Exception as e:\n",
    "        popt1, pcov1 = (np.array([np.nan]), np.array([[np.inf]]))\n",
    "        \n",
    "    try:\n",
    "        popt2, pcov2 = curve_fit(model, y_vals, probabilities, p0=[upper_bound], bounds=bounds)\n",
    "    except Exception as e:\n",
    "        popt2, pcov2 = (np.array([np.nan]), np.array([[np.inf]]))\n",
    "    \n",
    "    var1 = pcov1[0, 0] if np.isfinite(pcov1[0, 0]) else np.inf\n",
    "    var2 = pcov2[0, 0] if np.isfinite(pcov2[0, 0]) else np.inf\n",
    "    \n",
    "    if var1 < var2:\n",
    "        theta_est = popt1[0]\n",
    "    else:\n",
    "        theta_est = popt2[0]\n",
    "    \n",
    "    return theta_est"
   ]
  },
  {
   "cell_type": "code",
   "execution_count": 23,
   "id": "b5d06605",
   "metadata": {},
   "outputs": [
    {
     "name": "stdout",
     "output_type": "stream",
     "text": [
      "Polynomial Expression: 1.73205080756888*x0*x1 - 0.866025403784439*x0 - 0.866025403784439*x1\n"
     ]
    }
   ],
   "source": [
    "# define QAOA layers\n",
    "def mixer_layer(beta, wires):\n",
    "    for wire in wires:\n",
    "        qml.RX(-2*beta, wires=wire)\n",
    "\n",
    "sin_hamiltonian = get_func_hamiltonian(qae_func, -1, phase_wires)\n",
    "\n",
    "def qaoa_layer(gamma, beta):\n",
    "    cost_layer(gamma, sin_hamiltonian, phase_wires, [0, 0], B_amps, connections, conductance_coeffs_amps, phi_pyqsp, q_aux[0], config_wires, l_aux, flag_aux[0], l_prime_aux[0], data_wires)\n",
    "    mixer_layer(beta, config_wires)\n",
    "\n",
    "def qaoa_circuit(params, wires, depth):\n",
    "    for wire in wires:\n",
    "        qml.Hadamard(wires=wire)\n",
    "    qml.layer(qaoa_layer, depth, params[0], params[1])\n",
    "\n",
    "# number of QAOA layers\n",
    "p = 1\n",
    "\n",
    "@qml.qnode(dev)\n",
    "def cost_function_circuit(params):\n",
    "    qaoa_circuit(params, config_wires, p)\n",
    "    QAE(phase_wires, [0, 0], B_amps, connections, conductance_coeffs_amps, phi_pyqsp, q_aux[0], config_wires, l_aux, flag_aux[0], l_prime_aux[0], data_wires)\n",
    "    \n",
    "    return qml.probs(wires=config_wires+phase_wires)\n",
    "\n",
    "def cost_function(params):\n",
    "    probs = cost_function_circuit(params)\n",
    "    cost_curvefit = 0\n",
    "    for i in range(2**len(config_wires)):\n",
    "        probs_i = np.sum(probs.reshape((2**len(config_wires), -1)), axis=1)[i]\n",
    "        probs_qae_i = probs.reshape((2**len(config_wires), -1))[i, :]/probs_i\n",
    "        a = np.sin(np.pi*estimate_theta_qae(probs_qae_i))\n",
    "        cost_curvefit += probs_i * a\n",
    "    \n",
    "    return cost_curvefit"
   ]
  },
  {
   "cell_type": "code",
   "execution_count": 26,
   "id": "a33a9062",
   "metadata": {},
   "outputs": [
    {
     "name": "stderr",
     "output_type": "stream",
     "text": [
      "/var/folders/by/tjkhpdvj401cj92bnwvg228h0000gn/T/ipykernel_59671/2402714845.py:8: RuntimeWarning: invalid value encountered in divide\n",
      "  ratio = np.where(np.abs(denominator) < 1e-8, M**2, numerator / denominator)\n"
     ]
    },
    {
     "data": {
      "text/plain": [
       "0.19799705582641758"
      ]
     },
     "execution_count": 26,
     "metadata": {},
     "output_type": "execute_result"
    }
   ],
   "source": [
    "cost_function([[0.5]*p, [0.5]*p])"
   ]
  },
  {
   "cell_type": "markdown",
   "id": "a5551922",
   "metadata": {},
   "source": [
    "In principle, the circuit functions correctly. However, as its size grows, it becomes increasingly difficult to simulate due to the required number of phase qubits and the complexity of the associated polynomial. Optimizing such large circuits poses an even greater challenge. \n",
    "on, we chose not to pursue that direction and instead analyzed QuSO using a simplified QAE approach based on state preparation. For further details, refer to `QuSO_adjusted.ipynb` and the accompanying paper.\n"
   ]
  }
 ],
 "metadata": {
  "kernelspec": {
   "display_name": "qml",
   "language": "python",
   "name": "python3"
  },
  "language_info": {
   "codemirror_mode": {
    "name": "ipython",
    "version": 3
   },
   "file_extension": ".py",
   "mimetype": "text/x-python",
   "name": "python",
   "nbconvert_exporter": "python",
   "pygments_lexer": "ipython3",
   "version": "3.12.4"
  }
 },
 "nbformat": 4,
 "nbformat_minor": 5
}
