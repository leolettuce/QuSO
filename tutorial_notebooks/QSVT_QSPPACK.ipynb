{
 "cells": [
  {
   "cell_type": "markdown",
   "metadata": {},
   "source": [
    "# Quantum Singular Value Transform (QSVT) for matrix inversion"
   ]
  },
  {
   "cell_type": "markdown",
   "metadata": {},
   "source": [
    "This notebook shows how to solve linear systems of equations using QSVT in PennyLane. The polynomial used corresponds to the polynomial of the QSPPACK package https://github.com/qsppack/QSPPACK."
   ]
  },
  {
   "cell_type": "code",
   "execution_count": 1,
   "metadata": {},
   "outputs": [],
   "source": [
    "# import python libraries\n",
    "import pennylane as qml\n",
    "from pennylane import numpy as np\n",
    "from matplotlib import pyplot as plt"
   ]
  },
  {
   "cell_type": "markdown",
   "metadata": {},
   "source": [
    "# Define linear system"
   ]
  },
  {
   "cell_type": "code",
   "execution_count": 2,
   "metadata": {},
   "outputs": [],
   "source": [
    "A = np.array(\n",
    "    [\n",
    "        [0.65713691, -0.05349524, 0.08024556, -0.07242864],\n",
    "        [-0.05349524, 0.65713691, -0.07242864, 0.08024556],\n",
    "        [0.08024556, -0.07242864, 0.65713691, -0.05349524],\n",
    "        [-0.07242864, 0.08024556, -0.05349524, 0.65713691],\n",
    "    ]\n",
    ")\n",
    "\n",
    "b = np.array([1, 2, 3, 4], dtype=\"complex\")\n",
    "target_x = np.linalg.inv(A) @ b  # true solution\n",
    "\n",
    "# Normalize states:\n",
    "norm_b = np.linalg.norm(b)\n",
    "b = b / norm_b\n",
    "\n",
    "norm_x = np.linalg.norm(target_x)\n",
    "normalized_x = target_x / norm_x"
   ]
  },
  {
   "cell_type": "markdown",
   "metadata": {},
   "source": [
    "# Define QSVT circuit"
   ]
  },
  {
   "cell_type": "code",
   "execution_count": 3,
   "metadata": {},
   "outputs": [],
   "source": [
    "def real_u(A, phi, qsvt_wires, deg):\n",
    "    if deg % 2 == 0:\n",
    "        phi_even = [-x + np.pi / 2 for x in phi]\n",
    "        phi_even[0] += np.pi / 4\n",
    "        phi_even[-1] -= 3 * np.pi / 4\n",
    "    else:\n",
    "        phi_even = phi\n",
    "\n",
    "    qml.Hadamard(wires=qsvt_wires[0])\n",
    "\n",
    "    qml.ctrl(qml.qsvt(A, phi, qsvt_wires[1:]), control=qsvt_wires[0], control_values=(0,))\n",
    "    qml.ctrl(qml.qsvt(A.T, phi_even, qsvt_wires[1:]), control=qsvt_wires[0], control_values=(1,))\n",
    "\n",
    "    qml.Hadamard(wires=qsvt_wires[0])\n",
    "\n",
    "def qsvt_ls(A, b, phi, qsvt_wires, deg):\n",
    "    if deg % 4 == 0:\n",
    "        qml.GlobalPhase(-np.pi / 2)\n",
    "    elif deg % 4 == 2:\n",
    "        qml.GlobalPhase(np.pi / 2)\n",
    "    elif deg % 4 == 3:\n",
    "        qml.GlobalPhase(-np.pi)\n",
    "    \n",
    "    qml.StatePrep(b, wires=qsvt_wires[2:])\n",
    "    real_u(A.T, phi, qsvt_wires, deg)  # invert the singular values of A transpose to get A^-1"
   ]
  },
  {
   "cell_type": "markdown",
   "metadata": {},
   "source": [
    "# Find phase angles to approximate $\\frac{1}{x}$ with a polynomial"
   ]
  },
  {
   "cell_type": "markdown",
   "metadata": {},
   "source": [
    "The polynomial is defined by standard QSP operators. The phase angles are provided by the pyqsp library."
   ]
  },
  {
   "cell_type": "code",
   "execution_count": 4,
   "metadata": {},
   "outputs": [],
   "source": [
    "# Use precomputed phase angles for kappa=23 and s=1/46\n",
    "\n",
    "def get_precalculated_angles(degree):\n",
    "    file_path = 'Phi.txt'\n",
    "\n",
    "    if degree % 2 == 0 or degree < 1 or degree > 999:\n",
    "        raise ValueError(\"Degree is not a precalculated degree. Insert odd number between 1-999.\")\n",
    "\n",
    "    phi_values = []\n",
    "\n",
    "    with open(file_path, 'r') as file:\n",
    "        for line in file:\n",
    "            if f'Degree {degree}:' in line:\n",
    "                phi_values = [float(value) for value in line.split(':')[1].strip('[] \\n').split(',')]\n",
    "                break\n",
    "\n",
    "    return phi_values\n",
    "\n",
    "degree = 555 # odd number up to 999\n",
    "phi_precalculated = get_precalculated_angles(degree)"
   ]
  },
  {
   "cell_type": "code",
   "execution_count": 5,
   "metadata": {},
   "outputs": [
    {
     "data": {
      "image/png": "[encoded data removed]",
      "text/plain": [
       "<Figure size 640x480 with 1 Axes>"
      ]
     },
     "metadata": {},
     "output_type": "display_data"
    }
   ],
   "source": [
    "def custom_qsvt(x, phi, wires, deg):\n",
    "    if deg % 4 == 0:\n",
    "        qml.GlobalPhase(-np.pi / 2)\n",
    "    elif deg % 4 == 2:\n",
    "        qml.GlobalPhase(np.pi / 2)\n",
    "    elif deg % 4 == 3:\n",
    "        qml.GlobalPhase(-np.pi)\n",
    "\n",
    "    qml.qsvt(x, phi, wires)\n",
    "\n",
    "def plot_poly_QSPPACK(phi, s, kappa, degree):\n",
    "    x_vals = np.linspace(s, 1, 50)\n",
    "    inv_x = [s * (1 / x) for x in x_vals]\n",
    "\n",
    "    samples_x = np.linspace(0, 1, 100)\n",
    "\n",
    "    qsvt_y_vals = []\n",
    "    for x in samples_x:\n",
    "        poly_x = qml.matrix(custom_qsvt, wire_order=[0])(\n",
    "            x, phi, wires=[0], deg=degree)\n",
    "        qsvt_y_vals.append(np.real(poly_x[0, 0]))\n",
    "\n",
    "    plt.plot(samples_x, qsvt_y_vals, label=\"Re(qsvt)\")\n",
    "    plt.plot(x_vals, inv_x, label=\"target\")\n",
    "\n",
    "    plt.vlines(1 / kappa, -1.0, 1.0, linestyle=\"--\", color=\"grey\", label=\"1/kappa\")\n",
    "    plt.vlines(0.0, -1.0, 1.0, color=\"black\")\n",
    "    plt.hlines(0.0, -0.1, 1.0, color=\"black\")\n",
    "\n",
    "    plt.legend()\n",
    "    plt.show()\n",
    "\n",
    "plot_poly_QSPPACK(phi_precalculated, s=1/46, kappa=23, degree=degree)"
   ]
  },
  {
   "cell_type": "markdown",
   "metadata": {},
   "source": [
    "# Solve linear system using QSVT"
   ]
  },
  {
   "cell_type": "code",
   "execution_count": 6,
   "metadata": {},
   "outputs": [],
   "source": [
    "ancilla_wires = [0]\n",
    "block_wire = [1]\n",
    "solution_wires = [2, 3]\n",
    "\n",
    "wires = ancilla_wires + block_wire + solution_wires\n",
    "\n",
    "dev = qml.device(\"default.qubit\", wires=wires)\n",
    "@qml.qnode(dev)\n",
    "def solve_ls(A, b):\n",
    "    qsvt_ls(A, b, phi_precalculated, wires, degree)\n",
    "\n",
    "    return qml.state()"
   ]
  },
  {
   "cell_type": "code",
   "execution_count": 7,
   "metadata": {},
   "outputs": [
    {
     "name": "stdout",
     "output_type": "stream",
     "text": [
      "[0.21198391 0.33033183 0.58849131 0.70683922]\n"
     ]
    }
   ],
   "source": [
    "# Result by QSVT\n",
    "qsvt_state = solve_ls(A, b)[:2**len(solution_wires)].real\n",
    "print(qsvt_state/np.linalg.norm(qsvt_state))"
   ]
  },
  {
   "cell_type": "code",
   "execution_count": 8,
   "metadata": {},
   "outputs": [
    {
     "name": "stdout",
     "output_type": "stream",
     "text": [
      "[0.20539461 0.33532754 0.58192117 0.71185409]\n"
     ]
    }
   ],
   "source": [
    "# Expected result\n",
    "print(normalized_x.real)"
   ]
  },
  {
   "cell_type": "markdown",
   "metadata": {},
   "source": [
    "The solutions found by QSVT are close to the expected values (up to a constant)."
   ]
  },
  {
   "cell_type": "code",
   "execution_count": 9,
   "metadata": {},
   "outputs": [
    {
     "data": {
      "image/png": "[encoded data removed]",
      "text/plain": [
       "<Figure size 500x300 with 1 Axes>"
      ]
     },
     "metadata": {},
     "output_type": "display_data"
    }
   ],
   "source": [
    "plt.figure(figsize=(5, 3))\n",
    "plt.plot(qsvt_state/np.linalg.norm(qsvt_state), marker='x', c='orange', label=\"QSVT\", ls=\"\")\n",
    "plt.plot(normalized_x.real, marker='+', c='green', label=\"Solution\", ls=\"\")\n",
    "plt.legend()\n",
    "plt.show()"
   ]
  }
 ],
 "metadata": {
  "kernelspec": {
   "display_name": "qml",
   "language": "python",
   "name": "python3"
  },
  "language_info": {
   "codemirror_mode": {
    "name": "ipython",
    "version": 3
   },
   "file_extension": ".py",
   "mimetype": "text/x-python",
   "name": "python",
   "nbconvert_exporter": "python",
   "pygments_lexer": "ipython3",
   "version": "3.12.4"
  }
 },
 "nbformat": 4,
 "nbformat_minor": 2
}
