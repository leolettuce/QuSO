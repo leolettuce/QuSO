{
 "cells": [
  {
   "cell_type": "markdown",
   "metadata": {},
   "source": [
    "# Quantum Singular Value Transform (QSVT) for matrix inversion"
   ]
  },
  {
   "cell_type": "markdown",
   "metadata": {},
   "source": [
    "This notebook shows how to solve linear systems of equations using QSVT in PennyLane. The polynomial used corresponds to the polynomial in the PennyLane tutorial https://pennylane.ai/qml/demos/tutorial_apply_qsvt/."
   ]
  },
  {
   "cell_type": "code",
   "execution_count": 1,
   "metadata": {},
   "outputs": [],
   "source": [
    "# import python libraries\n",
    "import pennylane as qml\n",
    "from pennylane import numpy as np\n",
    "from matplotlib import pyplot as plt"
   ]
  },
  {
   "cell_type": "markdown",
   "metadata": {},
   "source": [
    "# Define linear system"
   ]
  },
  {
   "cell_type": "code",
   "execution_count": 2,
   "metadata": {},
   "outputs": [],
   "source": [
    "A = np.array(\n",
    "    [\n",
    "        [0.65713691, -0.05349524, 0.08024556, -0.07242864],\n",
    "        [-0.05349524, 0.65713691, -0.07242864, 0.08024556],\n",
    "        [0.08024556, -0.07242864, 0.65713691, -0.05349524],\n",
    "        [-0.07242864, 0.08024556, -0.05349524, 0.65713691],\n",
    "    ]\n",
    ")\n",
    "\n",
    "b = np.array([1, 2, 3, 4], dtype=\"complex\")\n",
    "target_x = np.linalg.inv(A) @ b  # true solution\n",
    "\n",
    "# Normalize states:\n",
    "norm_b = np.linalg.norm(b)\n",
    "b = b / norm_b\n",
    "\n",
    "norm_x = np.linalg.norm(target_x)\n",
    "normalized_x = target_x / norm_x"
   ]
  },
  {
   "cell_type": "markdown",
   "metadata": {},
   "source": [
    "# Define QSVT circuit"
   ]
  },
  {
   "cell_type": "code",
   "execution_count": 3,
   "metadata": {},
   "outputs": [],
   "source": [
    "def sum_even_odd_circ(x, phi, ancilla_wire, wires):\n",
    "    phi1, phi2 = phi[: len(phi) // 2], phi[len(phi) // 2:]\n",
    "\n",
    "    qml.Hadamard(wires=ancilla_wire)  # equal superposition\n",
    "\n",
    "    # apply even and odd polynomial approx\n",
    "    qml.ctrl(qml.qsvt, control=(ancilla_wire,), control_values=(0,))(x, phi1, wires=wires)\n",
    "    qml.ctrl(qml.qsvt, control=(ancilla_wire,), control_values=(1,))(x, phi2, wires=wires)\n",
    "\n",
    "    qml.Hadamard(wires=ancilla_wire)  # un-prepare superposition\n",
    "\n",
    "def real_u(A, phi, qsvt_wires):\n",
    "    qml.Hadamard(wires=qsvt_wires[0])\n",
    "\n",
    "    qml.ctrl(sum_even_odd_circ, control=qsvt_wires[0], control_values=(0,))(A, phi, qsvt_wires[1], qsvt_wires[2:])\n",
    "    qml.ctrl(qml.adjoint(sum_even_odd_circ), control=qsvt_wires[0], control_values=(1,))(A.T, phi, qsvt_wires[1], qsvt_wires[2:])\n",
    "\n",
    "    qml.Hadamard(wires=qsvt_wires[0])\n",
    "\n",
    "def qsvt_ls(A, phi, qsvt_wires, b):\n",
    "    qml.StatePrep(b, wires=qsvt_wires[3:])\n",
    "    real_u(A.T, phi, qsvt_wires)  # invert the singular values of A transpose to get A^-1"
   ]
  },
  {
   "cell_type": "markdown",
   "metadata": {},
   "source": [
    "# Find phase angles to approximate $\\frac{1}{x}$ with a polynomial"
   ]
  },
  {
   "cell_type": "markdown",
   "metadata": {},
   "source": [
    "The polynomial is defined by the function <code> sum_even_odd_circ(x, phi, ancilla_wire, wires) </code>."
   ]
  },
  {
   "cell_type": "code",
   "execution_count": 4,
   "metadata": {},
   "outputs": [
    {
     "name": "stdout",
     "output_type": "stream",
     "text": [
      "iter: 1, cost: 0.13498775924861087\n",
      "iter: 10, cost: 0.0026268606538712223\n",
      "iter: 20, cost: 0.0008946918854017237\n",
      "iter: 30, cost: 0.0007880079773453546\n",
      "iter: 40, cost: 0.0007218765079402115\n",
      "iter: 50, cost: 0.0006697389968886635\n",
      "iter: 60, cost: 0.0006008050955516451\n",
      "iter: 70, cost: 0.00042196118592748087\n",
      "iter: 80, cost: 0.00010830354515635625\n",
      "Completed Optimization! (final cost: 4.411271105503914e-05)\n"
     ]
    }
   ],
   "source": [
    "# Define condition number\n",
    "kappa = 4\n",
    "\n",
    "# Use PennyLane circuit optimization to determine phase angles\n",
    "np.random.seed(42)  # set seed for reproducibility\n",
    "phi_PL = np.random.rand(51)\n",
    "s_PL = 1/(2*kappa)\n",
    "\n",
    "samples_x = np.linspace(1 / kappa, 1, 100)\n",
    "\n",
    "def target_func(x):\n",
    "    return s_PL * (1 / x)\n",
    "\n",
    "def loss_func(phi_PL):\n",
    "    sum_square_error = 0\n",
    "    for x in samples_x:\n",
    "        qsvt_matrix = qml.matrix(sum_even_odd_circ, wire_order=[\"ancilla\", 0])(x, phi_PL, ancilla_wire=\"ancilla\", wires=[0])\n",
    "        qsvt_val = qsvt_matrix[0, 0]\n",
    "        sum_square_error += (np.real(qsvt_val) - target_func(x)) ** 2\n",
    "\n",
    "    return sum_square_error / len(samples_x)\n",
    "\n",
    "# Optimization:\n",
    "cost = 1\n",
    "iter = 0\n",
    "opt = qml.AdagradOptimizer(0.1)\n",
    "\n",
    "while cost > 0.5e-4:\n",
    "    iter += 1\n",
    "    phi_PL, cost = opt.step_and_cost(loss_func, phi_PL)\n",
    "\n",
    "    if iter % 10 == 0 or iter == 1:\n",
    "        print(f\"iter: {iter}, cost: {cost}\")\n",
    "\n",
    "    if iter > 100:\n",
    "        print(\"Iteration limit reached!\")\n",
    "        break\n",
    "\n",
    "print(f\"Completed Optimization! (final cost: {cost})\")\n",
    "\n",
    "# phi_PL = [ 0.39694577,  0.9997452 ,  0.6294269 ,  0.51382397,  0.12661585,\n",
    "#          0.06368662,  0.05207392,  0.76748488,  0.41100678,  0.67674805,\n",
    "#         -0.13309158,  0.94666788,  1.07131779,  0.08295283,  0.39285178,\n",
    "#          0.102393  ,  0.30249803,  0.47688564,  0.39049023,  0.2243345 ,\n",
    "#          0.59727477,  0.02979798,  0.2928709 ,  0.233082  ,  0.47847564,\n",
    "#          0.83558457,  0.23441899,  0.56598652,  0.63059257,  0.09202689,\n",
    "#          0.64104468,  0.18270863,  0.10175848,  0.96821947,  1.01631767,\n",
    "#          0.78643135,  0.35557132,  0.09770355,  0.72862268,  0.50966534,\n",
    "#          0.12205146,  0.56200074, -0.15840845,  0.98036595,  0.11804315,\n",
    "#          0.71146561,  0.34005238,  0.60758267,  0.58994914,  0.21795371,\n",
    "#          1.01999324]"
   ]
  },
  {
   "cell_type": "code",
   "execution_count": 17,
   "metadata": {},
   "outputs": [
    {
     "data": {
      "image/png": "[encoded data removed]",
      "text/plain": [
       "<Figure size 640x480 with 1 Axes>"
      ]
     },
     "metadata": {},
     "output_type": "display_data"
    }
   ],
   "source": [
    "def plot_poly_PL(phi, s, kappa):\n",
    "    x_vals = np.linspace(s, 1, 50)\n",
    "    inv_x = [s * (1 / x) for x in x_vals]\n",
    "\n",
    "    samples_x = np.linspace(0, 1, 100)\n",
    "    qsvt_y_vals = [\n",
    "        np.real(qml.matrix(sum_even_odd_circ, wire_order=[\"ancilla\", 0])(x, phi, \"ancilla\", wires=[0])[0, 0])\n",
    "        for x in samples_x\n",
    "    ]\n",
    "\n",
    "    plt.plot(samples_x, qsvt_y_vals, label=\"Re(qsvt)\")\n",
    "    plt.plot(x_vals, inv_x, label=\"target\")\n",
    "\n",
    "    plt.vlines(1 / kappa, -1.0, 1.0, linestyle=\"--\", color=\"grey\", label=\"1/kappa\")\n",
    "    plt.vlines(0.0, -1.0, 1.0, color=\"black\")\n",
    "    plt.hlines(0.0, -0.1, 1.0, color=\"black\")\n",
    "\n",
    "    plt.legend()\n",
    "    plt.show()\n",
    "\n",
    "plot_poly_PL(phi_PL, s_PL, kappa)"
   ]
  },
  {
   "cell_type": "markdown",
   "metadata": {},
   "source": [
    "# Solve linear system using QSVT"
   ]
  },
  {
   "cell_type": "code",
   "execution_count": 18,
   "metadata": {},
   "outputs": [],
   "source": [
    "ancilla_wires = [0, 1]\n",
    "block_wire = [2]\n",
    "solution_wires = [3, 4]\n",
    "\n",
    "wires = ancilla_wires + block_wire + solution_wires\n",
    "\n",
    "dev = qml.device(\"default.qubit\", wires=wires)\n",
    "@qml.qnode(dev)\n",
    "def solve_ls(A, b):\n",
    "    qsvt_ls(A, phi_PL, wires, b)\n",
    "\n",
    "    return qml.state()"
   ]
  },
  {
   "cell_type": "code",
   "execution_count": 19,
   "metadata": {},
   "outputs": [
    {
     "name": "stdout",
     "output_type": "stream",
     "text": [
      "[0.20803957 0.33501587 0.58320436 0.71018066]\n"
     ]
    }
   ],
   "source": [
    "# Result by QSVT\n",
    "qsvt_state = solve_ls(A, b)[:2**len(solution_wires)].real\n",
    "print(qsvt_state/np.linalg.norm(qsvt_state))"
   ]
  },
  {
   "cell_type": "code",
   "execution_count": 20,
   "metadata": {},
   "outputs": [
    {
     "name": "stdout",
     "output_type": "stream",
     "text": [
      "[0.20539461 0.33532754 0.58192117 0.71185409]\n"
     ]
    }
   ],
   "source": [
    "# Expected result\n",
    "print(normalized_x.real)"
   ]
  },
  {
   "cell_type": "markdown",
   "metadata": {},
   "source": [
    "The solutions found by QSVT are close to the expected values (up to a constant)."
   ]
  },
  {
   "cell_type": "code",
   "execution_count": 21,
   "metadata": {},
   "outputs": [
    {
     "data": {
      "image/png": "[encoded data removed]",
      "text/plain": [
       "<Figure size 500x300 with 1 Axes>"
      ]
     },
     "metadata": {},
     "output_type": "display_data"
    }
   ],
   "source": [
    "plt.figure(figsize=(5, 3))\n",
    "plt.plot(qsvt_state/np.linalg.norm(qsvt_state), marker='x', c='orange', label=\"QSVT\", ls=\"\")\n",
    "plt.plot(normalized_x.real, marker='+', c='green', label=\"Solution\", ls=\"\")\n",
    "plt.legend()\n",
    "plt.show()"
   ]
  },
  {
   "cell_type": "code",
   "execution_count": null,
   "metadata": {},
   "outputs": [],
   "source": []
  }
 ],
 "metadata": {
  "kernelspec": {
   "display_name": "test_env",
   "language": "python",
   "name": "python3"
  },
  "language_info": {
   "codemirror_mode": {
    "name": "ipython",
    "version": 3
   },
   "file_extension": ".py",
   "mimetype": "text/x-python",
   "name": "python",
   "nbconvert_exporter": "python",
   "pygments_lexer": "ipython3",
   "version": "3.12.4"
  }
 },
 "nbformat": 4,
 "nbformat_minor": 2
}
