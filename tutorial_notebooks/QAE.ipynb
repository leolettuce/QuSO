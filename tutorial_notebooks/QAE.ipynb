{
 "cells": [
  {
   "cell_type": "markdown",
   "metadata": {},
   "source": [
    "# Quantum Amplitude Estimation (QAE) in combination with QSVT"
   ]
  },
  {
   "cell_type": "markdown",
   "metadata": {},
   "source": [
    "We employ QSVT to solve a linear system and QAE to extract a single amplitude of the the QSVT solution."
   ]
  },
  {
   "cell_type": "code",
   "execution_count": 1,
   "metadata": {},
   "outputs": [],
   "source": [
    "# import python libraries\n",
    "import numpy as np \n",
    "import pennylane as qml\n",
    "import pennylane.templates as qmlt\n",
    "import matplotlib.pyplot as plt\n",
    "import math\n",
    "from itertools import combinations\n",
    "\n",
    "# import self-written routines\n",
    "from routines.bin_dec_conversion import bin2dec, dec2bin\n",
    "from routines.QSVT import qsvt_ls_pyqsp, plot_poly_pyqsp"
   ]
  },
  {
   "cell_type": "markdown",
   "metadata": {},
   "source": [
    "# Define linear system"
   ]
  },
  {
   "cell_type": "code",
   "execution_count": 2,
   "metadata": {},
   "outputs": [],
   "source": [
    "A = np.array(\n",
    "    [\n",
    "        [0.65713691, -0.05349524, 0.08024556, -0.07242864],\n",
    "        [-0.05349524, 0.65713691, -0.07242864, 0.08024556],\n",
    "        [0.08024556, -0.07242864, 0.65713691, -0.05349524],\n",
    "        [-0.07242864, 0.08024556, -0.05349524, 0.65713691],\n",
    "    ]\n",
    ")\n",
    "\n",
    "b = np.array([1, 2, 3, 4], dtype=\"complex\")\n",
    "target_x = np.linalg.inv(A) @ b  # true solution\n",
    "\n",
    "# Normalize states:\n",
    "norm_b = np.linalg.norm(b)\n",
    "b = b / norm_b\n",
    "\n",
    "norm_x = np.linalg.norm(target_x)\n",
    "normalized_x = target_x / norm_x"
   ]
  },
  {
   "cell_type": "markdown",
   "metadata": {},
   "source": [
    "# Choose phase angles for QSVT"
   ]
  },
  {
   "cell_type": "code",
   "execution_count": 3,
   "metadata": {},
   "outputs": [
    {
     "data": {
      "image/png": "[encoded data removed]",
      "text/plain": [
       "<Figure size 640x480 with 1 Axes>"
      ]
     },
     "metadata": {},
     "output_type": "display_data"
    }
   ],
   "source": [
    "s_pyqsp = 0.10145775\n",
    "phi_pyqsp = [-1.5922142770532273, -0.03252949895974533, 0.06067372571024077, 0.3119249700528526, 0.21643648192810572, -0.6257675633866073, 2.2647603713275712, -2.9452302836036406, 0.7351754207364953, 0.2758836177105888, -0.11643337976620094, 0.649573162685275, 0.12829303551227234, -1.0892339063760752, 2.3144971667719467, -2.6272826402282705, -0.21949773265116868, 2.6389896276979274, -2.2213989345063783, 2.6543450662205297, -0.17021410564966066, -2.1307099378221315, 1.01088271573515, -0.17021410582656094, -0.487247587299507, 0.9201937191031345, -0.5026030261033417, -0.2194977327290849, 0.5143100130364344, -0.8270954871909815, 2.052358747478442, -3.0132996176161053, 0.6495731628695878, -0.11643337963853151, 0.27588361797184735, 0.7351754206492971, 0.19636236921530748, -0.8768322826914424, -0.6257675629979345, 0.21643648227708767, 0.31192496995906427, 0.06067372558084472, -0.03252949895439006, -0.0214179502139501]\n",
    "plot_poly_pyqsp(phi_pyqsp, s_pyqsp, kappa=4)\n",
    "\n",
    "ancilla_qsvt_size = 1"
   ]
  },
  {
   "cell_type": "code",
   "execution_count": 4,
   "metadata": {},
   "outputs": [],
   "source": [
    "# Solve linear system using QSVT\n",
    "\n",
    "wires = np.arange(ancilla_qsvt_size+3).tolist()\n",
    "\n",
    "dev = qml.device(\"default.qubit\", wires=wires)\n",
    "@qml.qnode(dev)\n",
    "def test_qsvt():\n",
    "    qsvt_ls_pyqsp(A, b, phi_pyqsp, wires) \n",
    "\n",
    "    return qml.state()\n",
    "\n",
    "qsvt_state = test_qsvt()[:2**2].real"
   ]
  },
  {
   "cell_type": "markdown",
   "metadata": {},
   "source": [
    "# Define Grover operator for QAE\n",
    "$Q = -AS_0A^\\dagger S_\\psi$"
   ]
  },
  {
   "cell_type": "code",
   "execution_count": 5,
   "metadata": {},
   "outputs": [],
   "source": [
    "def grover_op_list(A, b, phi, wires, psi):\n",
    "    ops = []\n",
    "    ops.append(qml.FlipSign([0]*ancilla_qsvt_size + [0] + psi, wires=wires))    # S_psi\n",
    "    ops.append(qml.adjoint(qsvt_ls_pyqsp)(A, b, phi, wires))                    # A^dagger\n",
    "    ops.append(qml.FlipSign([0]*ancilla_qsvt_size + [0, 0, 0], wires=wires))    # S_0\n",
    "    ops.append(qsvt_ls_pyqsp(A, b, phi, wires))                                 # A\n",
    "    ops.append(qml.GlobalPhase(np.pi, wires=wires))                             # -1\n",
    "\n",
    "    return ops\n",
    "\n",
    "class grover_operator(qml.operation.Operation):\n",
    "    def __init__(self, A, b, phi, wires, psi, id=None):\n",
    "        super().__init__(wires=wires, id=id)\n",
    "        self.A = A\n",
    "        self.b = b\n",
    "        self.phi = phi\n",
    "        self.psi = psi\n",
    "\n",
    "    def decomposition(self):\n",
    "        # Define the sequence of operations that make up the custom operation\n",
    "        return grover_op_list(self.A, self.b, self.phi, self.wires, self.psi)"
   ]
  },
  {
   "cell_type": "markdown",
   "metadata": {},
   "source": [
    "# Define QAE circuit with QSVT inside"
   ]
  },
  {
   "cell_type": "code",
   "execution_count": 6,
   "metadata": {},
   "outputs": [],
   "source": [
    "def qae_circuit(A, b, phi, wires, qae_phase_size, amplitude=[0, 0]):\n",
    "    # prepare state by qsvt routine\n",
    "    qsvt_ls_pyqsp(A, b, phi, wires[qae_phase_size:])\n",
    "\n",
    "    # apply Hadamard gates on phase register\n",
    "    for wire in wires[:qae_phase_size]:\n",
    "        qml.Hadamard(wires=wire)\n",
    "\n",
    "    # apply controlled sequence of Grover operators (containing qsvt)\n",
    "    qml.ControlledSequence(grover_operator(A, b, phi, wires=wires[qae_phase_size:], psi=amplitude), control=wires[:qae_phase_size])\n",
    "    \n",
    "    # apply Inverse Fourier Transform on phase register\n",
    "    qml.adjoint(qml.QFT)(wires=wires[:qae_phase_size])"
   ]
  },
  {
   "cell_type": "markdown",
   "metadata": {},
   "source": [
    "# Run QAE\n",
    "We solve now our linear system of equations using QSVT and apply QAE to extract the first amplitude of the solution state.\n",
    "Hence, psi is set to |00>."
   ]
  },
  {
   "cell_type": "code",
   "execution_count": 7,
   "metadata": {},
   "outputs": [],
   "source": [
    "psi = [1, 1]\n",
    "\n",
    "qae_phase_size = 5\n",
    "block_size = 1\n",
    "solution_size = 2\n",
    "\n",
    "wires = np.arange(qae_phase_size+ancilla_qsvt_size+block_size+solution_size)\n",
    "dev = qml.device(\"default.qubit\", wires=wires)\n",
    "\n",
    "@qml.qnode(dev)\n",
    "def qae_qsvt(A, b, phi, psi):\n",
    "    qae_circuit(A, b, phi, wires, qae_phase_size, psi)\n",
    "    return qml.probs(wires=wires[:qae_phase_size])\n"
   ]
  },
  {
   "cell_type": "code",
   "execution_count": 8,
   "metadata": {},
   "outputs": [
    {
     "name": "stdout",
     "output_type": "stream",
     "text": [
      "0: ──H─────────────╭●──────────────────╭QFT†─┤ ╭Probs\n",
      "1: ──H─────────────├●──────────────────├QFT†─┤ ├Probs\n",
      "2: ──H─────────────├●──────────────────├QFT†─┤ ├Probs\n",
      "3: ──H─────────────├●──────────────────├QFT†─┤ ├Probs\n",
      "4: ──H─────────────├●──────────────────╰QFT†─┤ ╰Probs\n",
      "5: ─╭qsvt_ls_pyqsp─├ControlledSequence───────┤       \n",
      "6: ─├qsvt_ls_pyqsp─├ControlledSequence───────┤       \n",
      "7: ─├qsvt_ls_pyqsp─├ControlledSequence───────┤       \n",
      "8: ─╰qsvt_ls_pyqsp─╰ControlledSequence───────┤       \n"
     ]
    }
   ],
   "source": [
    "print(qml.draw(qae_qsvt)(A, b, phi_pyqsp, psi))"
   ]
  },
  {
   "cell_type": "code",
   "execution_count": 9,
   "metadata": {},
   "outputs": [],
   "source": [
    "def psi2int(psi):\n",
    "    binn = \"\"\n",
    "    for i in psi:\n",
    "        binn = f\"{binn}{i}\"\n",
    "    \n",
    "    return int(bin2dec(binn))"
   ]
  },
  {
   "cell_type": "markdown",
   "metadata": {},
   "source": [
    "Our solution state of QSVT could look like $\\ket{x} = c_{00}\\ket{00} + c_{01}\\ket{01} + c_{10}\\ket{10} + c_{11}\\ket{11}$. \\\n",
    "If we want to extract $c_{00}$ with QAE ($\\ket{\\psi}=\\ket{00}$), we get some binary number in our QAE phase register $\\ket{\\theta_{00}}$.\\\n",
    "We can compute $c_{00}$ by using the relation $c_{00} = \\sin(\\theta_{00}\\pi)$."
   ]
  },
  {
   "cell_type": "code",
   "execution_count": 10,
   "metadata": {},
   "outputs": [
    {
     "name": "stdout",
     "output_type": "stream",
     "text": [
      "QAE result: 0.09801714032956083 (0.11111)\n",
      "QSVT amplitude: 0.11754406725769687 (0.0000100110 or 0.1111011001)\n"
     ]
    },
    {
     "data": {
      "image/png": "[encoded data removed]",
      "text/plain": [
       "<Figure size 800x400 with 1 Axes>"
      ]
     },
     "metadata": {},
     "output_type": "display_data"
    }
   ],
   "source": [
    "results = qae_qsvt(A, b, phi_pyqsp, psi)\n",
    "\n",
    "bit_strings = [f\"0.{x:0{qae_phase_size}b}\" for x in range(len(results))]\n",
    "\n",
    "plt.figure(figsize=(8, 4))\n",
    "plt.bar(bit_strings, results)\n",
    "plt.xlabel(\"phase\")\n",
    "plt.ylabel(\"probability\")\n",
    "plt.xticks(rotation=\"vertical\")\n",
    "plt.subplots_adjust(bottom=0.3)\n",
    "print(f\"QAE result: {np.sin(bin2dec(bit_strings[results.tolist().index(max(results))])*np.pi)} ({bit_strings[results.tolist().index(max(results))]})\")\n",
    "print(f\"QSVT amplitude: {qsvt_state[psi2int(psi)]} ({dec2bin(np.arcsin(qsvt_state[psi2int(psi)])/np.pi)} or {dec2bin(1+np.arcsin(-qsvt_state[psi2int(psi)])/np.pi)})\")"
   ]
  }
 ],
 "metadata": {
  "kernelspec": {
   "display_name": "qml",
   "language": "python",
   "name": "python3"
  },
  "language_info": {
   "codemirror_mode": {
    "name": "ipython",
    "version": 3
   },
   "file_extension": ".py",
   "mimetype": "text/x-python",
   "name": "python",
   "nbconvert_exporter": "python",
   "pygments_lexer": "ipython3",
   "version": "3.12.4"
  }
 },
 "nbformat": 4,
 "nbformat_minor": 2
}
